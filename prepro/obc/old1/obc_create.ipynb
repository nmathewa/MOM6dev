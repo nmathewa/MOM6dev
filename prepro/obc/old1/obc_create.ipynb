{
 "cells": [
  {
   "cell_type": "code",
   "execution_count": 1,
   "id": "b80da95d-7e5b-47db-8c18-0e3523da335a",
   "metadata": {},
   "outputs": [],
   "source": [
    "\n",
    "\n",
    "import xarray as xr\n",
    "import xesmf\n",
    "import matplotlib.pyplot as plt\n",
    "import bottleneck\n",
    "import numpy as np\n",
    "import subprocess as sp\n",
    "import os\n",
    "import glob\n",
    "import cartopy.crs as ccrs\n",
    "\n"
   ]
  },
  {
   "cell_type": "code",
   "execution_count": 4,
   "id": "951c22f3-4fc5-4b86-91ab-ad5bc8f3fbd4",
   "metadata": {},
   "outputs": [],
   "source": [
    "\n",
    "\n",
    "def open_grid(path,decode_times=False):\n",
    "    \"\"\"Return a grid object containing staggered grid locations\"\"\"\n",
    "    grid={}\n",
    "    grid['ds']=xr.open_dataset(path,decode_times=False)\n",
    "    grid['ds']=grid['ds'].drop_dims(['ny','nx'])\n",
    "    grid['ds']=grid['ds'].drop_vars(['tile'])\n",
    "    grid['nyp']=grid['ds'].nyp.data[-1]+1\n",
    "    grid['nxp']=grid['ds'].nxp.data[-1]+1\n",
    "    nxp=grid['nxp'];nyp=grid['nyp']\n",
    "    grid['h'] = grid['ds'].isel(nxp=slice(1,nxp+1,2),nyp=slice(1,nyp+1,2))\n",
    "    #The q grid is not symmetric, but Cu and Cv are\n",
    "    grid['q'] = grid['ds'].isel(nxp=slice(2,nxp+1,2),nyp=slice(2,nyp+1,2))\n",
    "    grid['Cu'] = grid['ds'].isel(nxp=slice(0,nxp+1,2),nyp=slice(1,nyp+1,2))\n",
    "    grid['Cv'] = grid['ds'].isel(nxp=slice(1,nxp+1,2),nyp=slice(0,nyp+1,2))\n",
    "    return grid\n",
    "\n"
   ]
  },
  {
   "cell_type": "code",
   "execution_count": 5,
   "id": "8fb9dd49-4ba3-4f8b-a044-e5b512f06a9d",
   "metadata": {},
   "outputs": [
    {
     "data": {
      "text/plain": [
       "{'ds': <xarray.Dataset>\n",
       " Dimensions:   (nyp: 385, nxp: 525)\n",
       " Dimensions without coordinates: nyp, nxp\n",
       " Data variables:\n",
       "     x         (nyp, nxp) float64 ...\n",
       "     y         (nyp, nxp) float64 ...\n",
       "     angle_dx  (nyp, nxp) float64 ...\n",
       "     arcx      |S255 ...\n",
       " Attributes:\n",
       "     grid_version:  0.2\n",
       "     code_version:  $Name: fre-nctools-bronx-10 $\n",
       "     history:       make_hgrid --grid_type regular_lonlat_grid --nxbnd 2 --nyb...,\n",
       " 'nyp': 385,\n",
       " 'nxp': 525,\n",
       " 'h': <xarray.Dataset>\n",
       " Dimensions:   (nyp: 192, nxp: 262)\n",
       " Dimensions without coordinates: nyp, nxp\n",
       " Data variables:\n",
       "     x         (nyp, nxp) float64 ...\n",
       "     y         (nyp, nxp) float64 ...\n",
       "     angle_dx  (nyp, nxp) float64 ...\n",
       "     arcx      |S255 ...\n",
       " Attributes:\n",
       "     grid_version:  0.2\n",
       "     code_version:  $Name: fre-nctools-bronx-10 $\n",
       "     history:       make_hgrid --grid_type regular_lonlat_grid --nxbnd 2 --nyb...,\n",
       " 'q': <xarray.Dataset>\n",
       " Dimensions:   (nyp: 192, nxp: 262)\n",
       " Dimensions without coordinates: nyp, nxp\n",
       " Data variables:\n",
       "     x         (nyp, nxp) float64 ...\n",
       "     y         (nyp, nxp) float64 ...\n",
       "     angle_dx  (nyp, nxp) float64 ...\n",
       "     arcx      |S255 ...\n",
       " Attributes:\n",
       "     grid_version:  0.2\n",
       "     code_version:  $Name: fre-nctools-bronx-10 $\n",
       "     history:       make_hgrid --grid_type regular_lonlat_grid --nxbnd 2 --nyb...,\n",
       " 'Cu': <xarray.Dataset>\n",
       " Dimensions:   (nyp: 192, nxp: 263)\n",
       " Dimensions without coordinates: nyp, nxp\n",
       " Data variables:\n",
       "     x         (nyp, nxp) float64 ...\n",
       "     y         (nyp, nxp) float64 ...\n",
       "     angle_dx  (nyp, nxp) float64 ...\n",
       "     arcx      |S255 ...\n",
       " Attributes:\n",
       "     grid_version:  0.2\n",
       "     code_version:  $Name: fre-nctools-bronx-10 $\n",
       "     history:       make_hgrid --grid_type regular_lonlat_grid --nxbnd 2 --nyb...,\n",
       " 'Cv': <xarray.Dataset>\n",
       " Dimensions:   (nyp: 193, nxp: 262)\n",
       " Dimensions without coordinates: nyp, nxp\n",
       " Data variables:\n",
       "     x         (nyp, nxp) float64 ...\n",
       "     y         (nyp, nxp) float64 ...\n",
       "     angle_dx  (nyp, nxp) float64 ...\n",
       "     arcx      |S255 ...\n",
       " Attributes:\n",
       "     grid_version:  0.2\n",
       "     code_version:  $Name: fre-nctools-bronx-10 $\n",
       "     history:       make_hgrid --grid_type regular_lonlat_grid --nxbnd 2 --nyb...}"
      ]
     },
     "execution_count": 5,
     "metadata": {},
     "output_type": "execute_result"
    }
   ],
   "source": [
    "r_grid = \"/home/nma/mom/MOM6dev/exps/regional2/INPUT/bob_grid.nc\"\n",
    "\n",
    "region = open_grid(r_grid)\n",
    "region"
   ]
  },
  {
   "cell_type": "code",
   "execution_count": null,
   "id": "8fb9dd49-4ba3-4f8b-a044-e5b512f06a9d",
   "metadata": {},
   "outputs": [
    {
     "data": {
      "text/plain": [
       "{'ds': <xarray.Dataset>\n",
       " Dimensions:   (nyp: 385, nxp: 525)\n",
       " Dimensions without coordinates: nyp, nxp\n",
       " Data variables:\n",
       "     x         (nyp, nxp) float64 ...\n",
       "     y         (nyp, nxp) float64 ...\n",
       "     angle_dx  (nyp, nxp) float64 ...\n",
       "     arcx      |S255 ...\n",
       " Attributes:\n",
       "     grid_version:  0.2\n",
       "     code_version:  $Name: fre-nctools-bronx-10 $\n",
       "     history:       make_hgrid --grid_type regular_lonlat_grid --nxbnd 2 --nyb...,\n",
       " 'nyp': 385,\n",
       " 'nxp': 525,\n",
       " 'h': <xarray.Dataset>\n",
       " Dimensions:   (nyp: 192, nxp: 262)\n",
       " Dimensions without coordinates: nyp, nxp\n",
       " Data variables:\n",
       "     x         (nyp, nxp) float64 ...\n",
       "     y         (nyp, nxp) float64 ...\n",
       "     angle_dx  (nyp, nxp) float64 ...\n",
       "     arcx      |S255 ...\n",
       " Attributes:\n",
       "     grid_version:  0.2\n",
       "     code_version:  $Name: fre-nctools-bronx-10 $\n",
       "     history:       make_hgrid --grid_type regular_lonlat_grid --nxbnd 2 --nyb...,\n",
       " 'q': <xarray.Dataset>\n",
       " Dimensions:   (nyp: 192, nxp: 262)\n",
       " Dimensions without coordinates: nyp, nxp\n",
       " Data variables:\n",
       "     x         (nyp, nxp) float64 ...\n",
       "     y         (nyp, nxp) float64 ...\n",
       "     angle_dx  (nyp, nxp) float64 ...\n",
       "     arcx      |S255 ...\n",
       " Attributes:\n",
       "     grid_version:  0.2\n",
       "     code_version:  $Name: fre-nctools-bronx-10 $\n",
       "     history:       make_hgrid --grid_type regular_lonlat_grid --nxbnd 2 --nyb...,\n",
       " 'Cu': <xarray.Dataset>\n",
       " Dimensions:   (nyp: 192, nxp: 263)\n",
       " Dimensions without coordinates: nyp, nxp\n",
       " Data variables:\n",
       "     x         (nyp, nxp) float64 ...\n",
       "     y         (nyp, nxp) float64 ...\n",
       "     angle_dx  (nyp, nxp) float64 ...\n",
       "     arcx      |S255 ...\n",
       " Attributes:\n",
       "     grid_version:  0.2\n",
       "     code_version:  $Name: fre-nctools-bronx-10 $\n",
       "     history:       make_hgrid --grid_type regular_lonlat_grid --nxbnd 2 --nyb...,\n",
       " 'Cv': <xarray.Dataset>\n",
       " Dimensions:   (nyp: 193, nxp: 262)\n",
       " Dimensions without coordinates: nyp, nxp\n",
       " Data variables:\n",
       "     x         (nyp, nxp) float64 ...\n",
       "     y         (nyp, nxp) float64 ...\n",
       "     angle_dx  (nyp, nxp) float64 ...\n",
       "     arcx      |S255 ...\n",
       " Attributes:\n",
       "     grid_version:  0.2\n",
       "     code_version:  $Name: fre-nctools-bronx-10 $\n",
       "     history:       make_hgrid --grid_type regular_lonlat_grid --nxbnd 2 --nyb...}"
      ]
     },
     "metadata": {},
     "output_type": "display_data"
    }
   ],
   "source": [
    "r_grid = \"/home/nma/mom/MOM6dev/exps/regional2/INPUT/bob_grid.nc\"\n",
    "\n",
    "region = open_grid(r_grid)\n",
    "region"
   ]
  },
  {
   "cell_type": "code",
   "execution_count": 11,
   "id": "ead3bf5d-0d86-4fc4-9aa8-b7ebcc163091",
   "metadata": {},
   "outputs": [],
   "source": [
    "def open_dataset(ds,fields,grid):\n",
    "    #ds=xr.open_dataset(path,decode_times=False)\n",
    "    \n",
    "    tracer_list=[];uv_list=[]\n",
    "    for f in fields:\n",
    "        for fnam,val in zip(f.keys(),f.values()):\n",
    "            if val=='h':tracer_list.append(fnam)\n",
    "            if val=='Cu':uv_list.append(fnam)\n",
    "            if val=='Cv':uv_list.append(fnam)\n",
    "                \n",
    "    ds_tr = xr.merge([ds, grid['h']])\n",
    "    ds_u= xr.merge([ds,grid['Cu']])\n",
    "    ds_v= xr.merge([ds,grid['Cv']])\n",
    "    return {'ds_tr':ds_tr,'ds_u':ds_u,'ds_v':ds_v,'tracers':tracer_list,'uv':uv_list}\n",
    "\n"
   ]
  },
  {
   "cell_type": "code",
   "execution_count": 19,
   "id": "f9d5ee23-2b77-4dd6-8d98-87e56f9d0e59",
   "metadata": {},
   "outputs": [],
   "source": [
    "\n",
    "IOmodel = \"/home/nma/HDD/vinay/archives/IOMOM5Op/\"\n",
    "\n",
    "uu = xr.open_mfdataset(IOmodel+\"*.ocean_uvel.nc\")\n",
    "vv = xr.open_mfdataset(IOmodel+\"*.ocean_vvel.nc\")\n",
    "#fields=[{'temp':'h'},{'salt':'h'},{'ssh':'h'},{'u':'Cu'},{'v':'Cv'}]\n",
    "\n",
    "fields=[{'u':'Cu'},{'v':'Cv'}]\n",
    "\n",
    "dset = xr.merge([uu,vv])\n",
    "\n",
    "final_open = open_dataset(dset,fields,region)\n",
    "\n"
   ]
  },
  {
   "cell_type": "markdown",
   "id": "b505aa72-4ee6-4346-a722-ba6597a0c09a",
   "metadata": {},
   "source": [
    "### Remap vel to q corners"
   ]
  },
  {
   "cell_type": "code",
   "execution_count": 45,
   "id": "11f621c9-9b41-4fa0-9578-31f0a19c15c2",
   "metadata": {},
   "outputs": [],
   "source": [
    "\n",
    "\n",
    "def velocity_at_corners(ds_u,ds_v):\n",
    "    nxp=ds_u.xu_ocean[-1].data+1;nyp=ds_v.xu_ocean[-1].data+1\n",
    "    #upper-right q points\n",
    "    u_q=0.5*(ds_u.u+ds_u.u.roll(roll_coords='yu_ocean',yu_ocean=-1)).isel(xu_ocean=slice(1,nxp))\n",
    "    #upper-right q points\n",
    "    v_q=0.5*(ds_v.v+ds_v.v.roll(roll_coords='xu_ocean',xu_ocean=-1)).isel(yu_ocean=slice(1,nyp))\n",
    "    ds_uvq = xr.Dataset({'u':u_q,'v':v_q},coords={'time':ds_u.time,'lon':parent_grid['q'].x,'lat':parent_grid['q'].y,'angle_dx':parent_grid['q'].angle_dx})\n",
    "    return ds_uvq\n",
    "\n"
   ]
  },
  {
   "cell_type": "code",
   "execution_count": 50,
   "id": "7fd87363-05d2-44a2-9e73-ff85168d7d4e",
   "metadata": {},
   "outputs": [
    {
     "name": "stderr",
     "output_type": "stream",
     "text": [
      "/home/nma/nma/miniconda3/envs/mom/lib/python3.8/site-packages/xarray/core/indexing.py:1227: PerformanceWarning: Slicing is producing a large chunk. To accept the large\n",
      "chunk and silence this warning, set the option\n",
      "    >>> with dask.config.set(**{'array.slicing.split_large_chunks': False}):\n",
      "    ...     array[indexer]\n",
      "\n",
      "To avoid creating the large chunks, set the option\n",
      "    >>> with dask.config.set(**{'array.slicing.split_large_chunks': True}):\n",
      "    ...     array[indexer]\n",
      "  return self.array[key]\n"
     ]
    },
    {
     "ename": "TypeError",
     "evalue": "'numpy.float64' object cannot be interpreted as an integer",
     "output_type": "error",
     "traceback": [
      "\u001b[0;31m---------------------------------------------------------------------------\u001b[0m",
      "\u001b[0;31mTypeError\u001b[0m                                 Traceback (most recent call last)",
      "\u001b[0;32m/tmp/ipykernel_16439/579391499.py\u001b[0m in \u001b[0;36m<module>\u001b[0;34m\u001b[0m\n\u001b[1;32m      2\u001b[0m \u001b[0;34m\u001b[0m\u001b[0m\n\u001b[1;32m      3\u001b[0m \u001b[0mnxp\u001b[0m\u001b[0;34m=\u001b[0m\u001b[0mds_u\u001b[0m\u001b[0;34m.\u001b[0m\u001b[0mxu_ocean\u001b[0m\u001b[0;34m[\u001b[0m\u001b[0;34m-\u001b[0m\u001b[0;36m1\u001b[0m\u001b[0;34m]\u001b[0m\u001b[0;34m.\u001b[0m\u001b[0mdata\u001b[0m\u001b[0;34m+\u001b[0m\u001b[0;36m1\u001b[0m\u001b[0;34m;\u001b[0m\u001b[0mnyp\u001b[0m\u001b[0;34m=\u001b[0m\u001b[0mds_v\u001b[0m\u001b[0;34m.\u001b[0m\u001b[0mxu_ocean\u001b[0m\u001b[0;34m[\u001b[0m\u001b[0;34m-\u001b[0m\u001b[0;36m1\u001b[0m\u001b[0;34m]\u001b[0m\u001b[0;34m.\u001b[0m\u001b[0mdata\u001b[0m\u001b[0;34m+\u001b[0m\u001b[0;36m1\u001b[0m\u001b[0;34m\u001b[0m\u001b[0;34m\u001b[0m\u001b[0m\n\u001b[0;32m----> 4\u001b[0;31m \u001b[0mu_q\u001b[0m\u001b[0;34m=\u001b[0m\u001b[0;36m0.5\u001b[0m\u001b[0;34m*\u001b[0m\u001b[0;34m(\u001b[0m\u001b[0mds_u\u001b[0m\u001b[0;34m.\u001b[0m\u001b[0mu\u001b[0m\u001b[0;34m+\u001b[0m\u001b[0mds_u\u001b[0m\u001b[0;34m.\u001b[0m\u001b[0mu\u001b[0m\u001b[0;34m.\u001b[0m\u001b[0mroll\u001b[0m\u001b[0;34m(\u001b[0m\u001b[0mroll_coords\u001b[0m\u001b[0;34m=\u001b[0m\u001b[0;34m'yu_ocean'\u001b[0m\u001b[0;34m,\u001b[0m\u001b[0myu_ocean\u001b[0m\u001b[0;34m=\u001b[0m\u001b[0;34m-\u001b[0m\u001b[0;36m1\u001b[0m\u001b[0;34m)\u001b[0m\u001b[0;34m)\u001b[0m\u001b[0;34m.\u001b[0m\u001b[0misel\u001b[0m\u001b[0;34m(\u001b[0m\u001b[0mxu_ocean\u001b[0m\u001b[0;34m=\u001b[0m\u001b[0mslice\u001b[0m\u001b[0;34m(\u001b[0m\u001b[0;36m1\u001b[0m\u001b[0;34m,\u001b[0m\u001b[0mnxp\u001b[0m\u001b[0;34m)\u001b[0m\u001b[0;34m)\u001b[0m\u001b[0;34m\u001b[0m\u001b[0;34m\u001b[0m\u001b[0m\n\u001b[0m\u001b[1;32m      5\u001b[0m \u001b[0;31m#final_open['ds_uv']=velocity_at_corners(ds_u.isel(time=slice(0,1)),ds_v.isel(time=slice(0,1)))\u001b[0m\u001b[0;34m\u001b[0m\u001b[0;34m\u001b[0m\u001b[0;34m\u001b[0m\u001b[0m\n",
      "\u001b[0;32m~/nma/miniconda3/envs/mom/lib/python3.8/site-packages/xarray/core/dataarray.py\u001b[0m in \u001b[0;36misel\u001b[0;34m(self, indexers, drop, missing_dims, **indexers_kwargs)\u001b[0m\n\u001b[1;32m   1206\u001b[0m         \u001b[0;31m# lists, or zero or one-dimensional np.ndarray's\u001b[0m\u001b[0;34m\u001b[0m\u001b[0;34m\u001b[0m\u001b[0;34m\u001b[0m\u001b[0m\n\u001b[1;32m   1207\u001b[0m \u001b[0;34m\u001b[0m\u001b[0m\n\u001b[0;32m-> 1208\u001b[0;31m         \u001b[0mvariable\u001b[0m \u001b[0;34m=\u001b[0m \u001b[0mself\u001b[0m\u001b[0;34m.\u001b[0m\u001b[0m_variable\u001b[0m\u001b[0;34m.\u001b[0m\u001b[0misel\u001b[0m\u001b[0;34m(\u001b[0m\u001b[0mindexers\u001b[0m\u001b[0;34m,\u001b[0m \u001b[0mmissing_dims\u001b[0m\u001b[0;34m=\u001b[0m\u001b[0mmissing_dims\u001b[0m\u001b[0;34m)\u001b[0m\u001b[0;34m\u001b[0m\u001b[0;34m\u001b[0m\u001b[0m\n\u001b[0m\u001b[1;32m   1209\u001b[0m \u001b[0;34m\u001b[0m\u001b[0m\n\u001b[1;32m   1210\u001b[0m         \u001b[0mcoords\u001b[0m \u001b[0;34m=\u001b[0m \u001b[0;34m{\u001b[0m\u001b[0;34m}\u001b[0m\u001b[0;34m\u001b[0m\u001b[0;34m\u001b[0m\u001b[0m\n",
      "\u001b[0;32m~/nma/miniconda3/envs/mom/lib/python3.8/site-packages/xarray/core/variable.py\u001b[0m in \u001b[0;36misel\u001b[0;34m(self, indexers, missing_dims, **indexers_kwargs)\u001b[0m\n\u001b[1;32m   1191\u001b[0m \u001b[0;34m\u001b[0m\u001b[0m\n\u001b[1;32m   1192\u001b[0m         \u001b[0mkey\u001b[0m \u001b[0;34m=\u001b[0m \u001b[0mtuple\u001b[0m\u001b[0;34m(\u001b[0m\u001b[0mindexers\u001b[0m\u001b[0;34m.\u001b[0m\u001b[0mget\u001b[0m\u001b[0;34m(\u001b[0m\u001b[0mdim\u001b[0m\u001b[0;34m,\u001b[0m \u001b[0mslice\u001b[0m\u001b[0;34m(\u001b[0m\u001b[0;32mNone\u001b[0m\u001b[0;34m)\u001b[0m\u001b[0;34m)\u001b[0m \u001b[0;32mfor\u001b[0m \u001b[0mdim\u001b[0m \u001b[0;32min\u001b[0m \u001b[0mself\u001b[0m\u001b[0;34m.\u001b[0m\u001b[0mdims\u001b[0m\u001b[0;34m)\u001b[0m\u001b[0;34m\u001b[0m\u001b[0;34m\u001b[0m\u001b[0m\n\u001b[0;32m-> 1193\u001b[0;31m         \u001b[0;32mreturn\u001b[0m \u001b[0mself\u001b[0m\u001b[0;34m[\u001b[0m\u001b[0mkey\u001b[0m\u001b[0;34m]\u001b[0m\u001b[0;34m\u001b[0m\u001b[0;34m\u001b[0m\u001b[0m\n\u001b[0m\u001b[1;32m   1194\u001b[0m \u001b[0;34m\u001b[0m\u001b[0m\n\u001b[1;32m   1195\u001b[0m     \u001b[0;32mdef\u001b[0m \u001b[0msqueeze\u001b[0m\u001b[0;34m(\u001b[0m\u001b[0mself\u001b[0m\u001b[0;34m,\u001b[0m \u001b[0mdim\u001b[0m\u001b[0;34m=\u001b[0m\u001b[0;32mNone\u001b[0m\u001b[0;34m)\u001b[0m\u001b[0;34m:\u001b[0m\u001b[0;34m\u001b[0m\u001b[0;34m\u001b[0m\u001b[0m\n",
      "\u001b[0;32m~/nma/miniconda3/envs/mom/lib/python3.8/site-packages/xarray/core/variable.py\u001b[0m in \u001b[0;36m__getitem__\u001b[0;34m(self, key)\u001b[0m\n\u001b[1;32m    783\u001b[0m         \u001b[0marray\u001b[0m\u001b[0;31m \u001b[0m\u001b[0;31m`\u001b[0m\u001b[0mx\u001b[0m\u001b[0;34m.\u001b[0m\u001b[0mvalues\u001b[0m\u001b[0;31m`\u001b[0m \u001b[0mdirectly\u001b[0m\u001b[0;34m.\u001b[0m\u001b[0;34m\u001b[0m\u001b[0;34m\u001b[0m\u001b[0m\n\u001b[1;32m    784\u001b[0m         \"\"\"\n\u001b[0;32m--> 785\u001b[0;31m         \u001b[0mdims\u001b[0m\u001b[0;34m,\u001b[0m \u001b[0mindexer\u001b[0m\u001b[0;34m,\u001b[0m \u001b[0mnew_order\u001b[0m \u001b[0;34m=\u001b[0m \u001b[0mself\u001b[0m\u001b[0;34m.\u001b[0m\u001b[0m_broadcast_indexes\u001b[0m\u001b[0;34m(\u001b[0m\u001b[0mkey\u001b[0m\u001b[0;34m)\u001b[0m\u001b[0;34m\u001b[0m\u001b[0;34m\u001b[0m\u001b[0m\n\u001b[0m\u001b[1;32m    786\u001b[0m         \u001b[0mdata\u001b[0m \u001b[0;34m=\u001b[0m \u001b[0mas_indexable\u001b[0m\u001b[0;34m(\u001b[0m\u001b[0mself\u001b[0m\u001b[0;34m.\u001b[0m\u001b[0m_data\u001b[0m\u001b[0;34m)\u001b[0m\u001b[0;34m[\u001b[0m\u001b[0mindexer\u001b[0m\u001b[0;34m]\u001b[0m\u001b[0;34m\u001b[0m\u001b[0;34m\u001b[0m\u001b[0m\n\u001b[1;32m    787\u001b[0m         \u001b[0;32mif\u001b[0m \u001b[0mnew_order\u001b[0m\u001b[0;34m:\u001b[0m\u001b[0;34m\u001b[0m\u001b[0;34m\u001b[0m\u001b[0m\n",
      "\u001b[0;32m~/nma/miniconda3/envs/mom/lib/python3.8/site-packages/xarray/core/variable.py\u001b[0m in \u001b[0;36m_broadcast_indexes\u001b[0;34m(self, key)\u001b[0m\n\u001b[1;32m    624\u001b[0m \u001b[0;34m\u001b[0m\u001b[0m\n\u001b[1;32m    625\u001b[0m         \u001b[0;32mif\u001b[0m \u001b[0mall\u001b[0m\u001b[0;34m(\u001b[0m\u001b[0misinstance\u001b[0m\u001b[0;34m(\u001b[0m\u001b[0mk\u001b[0m\u001b[0;34m,\u001b[0m \u001b[0mBASIC_INDEXING_TYPES\u001b[0m\u001b[0;34m)\u001b[0m \u001b[0;32mfor\u001b[0m \u001b[0mk\u001b[0m \u001b[0;32min\u001b[0m \u001b[0mkey\u001b[0m\u001b[0;34m)\u001b[0m\u001b[0;34m:\u001b[0m\u001b[0;34m\u001b[0m\u001b[0;34m\u001b[0m\u001b[0m\n\u001b[0;32m--> 626\u001b[0;31m             \u001b[0;32mreturn\u001b[0m \u001b[0mself\u001b[0m\u001b[0;34m.\u001b[0m\u001b[0m_broadcast_indexes_basic\u001b[0m\u001b[0;34m(\u001b[0m\u001b[0mkey\u001b[0m\u001b[0;34m)\u001b[0m\u001b[0;34m\u001b[0m\u001b[0;34m\u001b[0m\u001b[0m\n\u001b[0m\u001b[1;32m    627\u001b[0m \u001b[0;34m\u001b[0m\u001b[0m\n\u001b[1;32m    628\u001b[0m         \u001b[0mself\u001b[0m\u001b[0;34m.\u001b[0m\u001b[0m_validate_indexers\u001b[0m\u001b[0;34m(\u001b[0m\u001b[0mkey\u001b[0m\u001b[0;34m)\u001b[0m\u001b[0;34m\u001b[0m\u001b[0;34m\u001b[0m\u001b[0m\n",
      "\u001b[0;32m~/nma/miniconda3/envs/mom/lib/python3.8/site-packages/xarray/core/variable.py\u001b[0m in \u001b[0;36m_broadcast_indexes_basic\u001b[0;34m(self, key)\u001b[0m\n\u001b[1;32m    652\u001b[0m             \u001b[0mdim\u001b[0m \u001b[0;32mfor\u001b[0m \u001b[0mk\u001b[0m\u001b[0;34m,\u001b[0m \u001b[0mdim\u001b[0m \u001b[0;32min\u001b[0m \u001b[0mzip\u001b[0m\u001b[0;34m(\u001b[0m\u001b[0mkey\u001b[0m\u001b[0;34m,\u001b[0m \u001b[0mself\u001b[0m\u001b[0;34m.\u001b[0m\u001b[0mdims\u001b[0m\u001b[0;34m)\u001b[0m \u001b[0;32mif\u001b[0m \u001b[0;32mnot\u001b[0m \u001b[0misinstance\u001b[0m\u001b[0;34m(\u001b[0m\u001b[0mk\u001b[0m\u001b[0;34m,\u001b[0m \u001b[0minteger_types\u001b[0m\u001b[0;34m)\u001b[0m\u001b[0;34m\u001b[0m\u001b[0;34m\u001b[0m\u001b[0m\n\u001b[1;32m    653\u001b[0m         )\n\u001b[0;32m--> 654\u001b[0;31m         \u001b[0;32mreturn\u001b[0m \u001b[0mdims\u001b[0m\u001b[0;34m,\u001b[0m \u001b[0mBasicIndexer\u001b[0m\u001b[0;34m(\u001b[0m\u001b[0mkey\u001b[0m\u001b[0;34m)\u001b[0m\u001b[0;34m,\u001b[0m \u001b[0;32mNone\u001b[0m\u001b[0;34m\u001b[0m\u001b[0;34m\u001b[0m\u001b[0m\n\u001b[0m\u001b[1;32m    655\u001b[0m \u001b[0;34m\u001b[0m\u001b[0m\n\u001b[1;32m    656\u001b[0m     \u001b[0;32mdef\u001b[0m \u001b[0m_validate_indexers\u001b[0m\u001b[0;34m(\u001b[0m\u001b[0mself\u001b[0m\u001b[0;34m,\u001b[0m \u001b[0mkey\u001b[0m\u001b[0;34m)\u001b[0m\u001b[0;34m:\u001b[0m\u001b[0;34m\u001b[0m\u001b[0;34m\u001b[0m\u001b[0m\n",
      "\u001b[0;32m~/nma/miniconda3/envs/mom/lib/python3.8/site-packages/xarray/core/indexing.py\u001b[0m in \u001b[0;36m__init__\u001b[0;34m(self, key)\u001b[0m\n\u001b[1;32m    236\u001b[0m                 \u001b[0mk\u001b[0m \u001b[0;34m=\u001b[0m \u001b[0mint\u001b[0m\u001b[0;34m(\u001b[0m\u001b[0mk\u001b[0m\u001b[0;34m)\u001b[0m\u001b[0;34m\u001b[0m\u001b[0;34m\u001b[0m\u001b[0m\n\u001b[1;32m    237\u001b[0m             \u001b[0;32melif\u001b[0m \u001b[0misinstance\u001b[0m\u001b[0;34m(\u001b[0m\u001b[0mk\u001b[0m\u001b[0;34m,\u001b[0m \u001b[0mslice\u001b[0m\u001b[0;34m)\u001b[0m\u001b[0;34m:\u001b[0m\u001b[0;34m\u001b[0m\u001b[0;34m\u001b[0m\u001b[0m\n\u001b[0;32m--> 238\u001b[0;31m                 \u001b[0mk\u001b[0m \u001b[0;34m=\u001b[0m \u001b[0mas_integer_slice\u001b[0m\u001b[0;34m(\u001b[0m\u001b[0mk\u001b[0m\u001b[0;34m)\u001b[0m\u001b[0;34m\u001b[0m\u001b[0;34m\u001b[0m\u001b[0m\n\u001b[0m\u001b[1;32m    239\u001b[0m             \u001b[0;32melse\u001b[0m\u001b[0;34m:\u001b[0m\u001b[0;34m\u001b[0m\u001b[0;34m\u001b[0m\u001b[0m\n\u001b[1;32m    240\u001b[0m                 raise TypeError(\n",
      "\u001b[0;32m~/nma/miniconda3/envs/mom/lib/python3.8/site-packages/xarray/core/indexing.py\u001b[0m in \u001b[0;36mas_integer_slice\u001b[0;34m(value)\u001b[0m\n\u001b[1;32m    212\u001b[0m \u001b[0;32mdef\u001b[0m \u001b[0mas_integer_slice\u001b[0m\u001b[0;34m(\u001b[0m\u001b[0mvalue\u001b[0m\u001b[0;34m)\u001b[0m\u001b[0;34m:\u001b[0m\u001b[0;34m\u001b[0m\u001b[0;34m\u001b[0m\u001b[0m\n\u001b[1;32m    213\u001b[0m     \u001b[0mstart\u001b[0m \u001b[0;34m=\u001b[0m \u001b[0mas_integer_or_none\u001b[0m\u001b[0;34m(\u001b[0m\u001b[0mvalue\u001b[0m\u001b[0;34m.\u001b[0m\u001b[0mstart\u001b[0m\u001b[0;34m)\u001b[0m\u001b[0;34m\u001b[0m\u001b[0;34m\u001b[0m\u001b[0m\n\u001b[0;32m--> 214\u001b[0;31m     \u001b[0mstop\u001b[0m \u001b[0;34m=\u001b[0m \u001b[0mas_integer_or_none\u001b[0m\u001b[0;34m(\u001b[0m\u001b[0mvalue\u001b[0m\u001b[0;34m.\u001b[0m\u001b[0mstop\u001b[0m\u001b[0;34m)\u001b[0m\u001b[0;34m\u001b[0m\u001b[0;34m\u001b[0m\u001b[0m\n\u001b[0m\u001b[1;32m    215\u001b[0m     \u001b[0mstep\u001b[0m \u001b[0;34m=\u001b[0m \u001b[0mas_integer_or_none\u001b[0m\u001b[0;34m(\u001b[0m\u001b[0mvalue\u001b[0m\u001b[0;34m.\u001b[0m\u001b[0mstep\u001b[0m\u001b[0;34m)\u001b[0m\u001b[0;34m\u001b[0m\u001b[0;34m\u001b[0m\u001b[0m\n\u001b[1;32m    216\u001b[0m     \u001b[0;32mreturn\u001b[0m \u001b[0mslice\u001b[0m\u001b[0;34m(\u001b[0m\u001b[0mstart\u001b[0m\u001b[0;34m,\u001b[0m \u001b[0mstop\u001b[0m\u001b[0;34m,\u001b[0m \u001b[0mstep\u001b[0m\u001b[0;34m)\u001b[0m\u001b[0;34m\u001b[0m\u001b[0;34m\u001b[0m\u001b[0m\n",
      "\u001b[0;32m~/nma/miniconda3/envs/mom/lib/python3.8/site-packages/xarray/core/indexing.py\u001b[0m in \u001b[0;36mas_integer_or_none\u001b[0;34m(value)\u001b[0m\n\u001b[1;32m    207\u001b[0m \u001b[0;34m\u001b[0m\u001b[0m\n\u001b[1;32m    208\u001b[0m \u001b[0;32mdef\u001b[0m \u001b[0mas_integer_or_none\u001b[0m\u001b[0;34m(\u001b[0m\u001b[0mvalue\u001b[0m\u001b[0;34m)\u001b[0m\u001b[0;34m:\u001b[0m\u001b[0;34m\u001b[0m\u001b[0;34m\u001b[0m\u001b[0m\n\u001b[0;32m--> 209\u001b[0;31m     \u001b[0;32mreturn\u001b[0m \u001b[0;32mNone\u001b[0m \u001b[0;32mif\u001b[0m \u001b[0mvalue\u001b[0m \u001b[0;32mis\u001b[0m \u001b[0;32mNone\u001b[0m \u001b[0;32melse\u001b[0m \u001b[0moperator\u001b[0m\u001b[0;34m.\u001b[0m\u001b[0mindex\u001b[0m\u001b[0;34m(\u001b[0m\u001b[0mvalue\u001b[0m\u001b[0;34m)\u001b[0m\u001b[0;34m\u001b[0m\u001b[0;34m\u001b[0m\u001b[0m\n\u001b[0m\u001b[1;32m    210\u001b[0m \u001b[0;34m\u001b[0m\u001b[0m\n\u001b[1;32m    211\u001b[0m \u001b[0;34m\u001b[0m\u001b[0m\n",
      "\u001b[0;31mTypeError\u001b[0m: 'numpy.float64' object cannot be interpreted as an integer"
     ]
    }
   ],
   "source": [
    "ds_u=final_open['ds_u'];ds_v=final_open['ds_v']\n",
    "\n",
    "nxp=ds_u.xu_ocean[-1].data+1;nyp=ds_v.xu_ocean[-1].data+1\n",
    "u_q=0.5*(ds_u.u+ds_u.u.roll(roll_coords='yu_ocean',yu_ocean=-1)).isel(xu_ocean=slice(1,nxp))\n",
    "#final_open['ds_uv']=velocity_at_corners(ds_u.isel(time=slice(0,1)),ds_v.isel(time=slice(0,1)))"
   ]
  }
 ],
 "metadata": {
  "kernelspec": {
   "display_name": "Python 3 (ipykernel)",
   "language": "python",
   "name": "python3"
  },
  "language_info": {
   "codemirror_mode": {
    "name": "ipython",
    "version": 3
   },
   "file_extension": ".py",
   "mimetype": "text/x-python",
   "name": "python",
   "nbconvert_exporter": "python",
   "pygments_lexer": "ipython3",
   "version": "3.8.12"
  }
 },
 "nbformat": 4,
 "nbformat_minor": 5
}
