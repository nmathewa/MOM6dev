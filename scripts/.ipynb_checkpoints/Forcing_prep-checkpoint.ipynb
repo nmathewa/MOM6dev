{
 "cells": [
  {
   "cell_type": "code",
   "execution_count": 1,
   "id": "c554c8cc",
   "metadata": {},
   "outputs": [],
   "source": [
    "import os\n",
    "import glob\n",
    "os.chdir(\"/home/nma/mom/general/ROMS/Input_Data/\")\n",
    "import xarray as xr\n",
    "import matplotlib.pyplot as plt\n",
    "import numpy as np"
   ]
  },
  {
   "cell_type": "markdown",
   "id": "d36b2c6b",
   "metadata": {},
   "source": [
    "### Daily wind BOB\n",
    "\n",
    "ROMS\n",
    "\n",
    "daily - 1 year\n"
   ]
  },
  {
   "cell_type": "code",
   "execution_count": 2,
   "id": "03ae3175",
   "metadata": {},
   "outputs": [],
   "source": [
    "wind_ROMS_12 = xr.open_dataset(\"Daily_ASCAT2012_BoB_wind.nc\")\n",
    "#wind_ROMS_13 = xr.open_dataset(\"Daily_ASCAT2013_BoB_wind.nc\")\n",
    "SLP12 = xr.open_dataset(\"Daily_ERAI_BoB2012PRES.nc\")\n",
    "\n",
    "#plt.contourf(dail_.U10.values)\n"
   ]
  },
  {
   "cell_type": "code",
   "execution_count": 3,
   "id": "07bdc77d",
   "metadata": {},
   "outputs": [],
   "source": [
    "u = dail_.U10.values[0,0,:,:]\n",
    "v = dail_.V10.values[0,0,:,:]\n",
    "speed = np.sqrt((u*u) + (v*v))\n",
    "\n",
    "#plt.contourf(speed,cmap=\"RdBu\")\n",
    "#plt.colorbar()"
   ]
  },
  {
   "cell_type": "markdown",
   "id": "7b3d6d47",
   "metadata": {},
   "source": [
    "### COAPS\n",
    "\n",
    "hourly "
   ]
  },
  {
   "cell_type": "code",
   "execution_count": 4,
   "id": "3fa327db",
   "metadata": {},
   "outputs": [],
   "source": [
    "coaps_dir = \"/home/nma/mom/general/datasets/CFSv2/\"\n",
    "ncfiles = glob.glob(coaps_dir+\"*.nc\")\n",
    "ncfiles\n",
    "preci = xr.open_dataset(coaps_dir+\"cfsv2_gom-sea_2015_01hr_precip.nc\")\n",
    "\n"
   ]
  }
 ],
 "metadata": {
  "kernelspec": {
   "display_name": "Python 3 (ipykernel)",
   "language": "python",
   "name": "python3"
  },
  "language_info": {
   "codemirror_mode": {
    "name": "ipython",
    "version": 3
   },
   "file_extension": ".py",
   "mimetype": "text/x-python",
   "name": "python",
   "nbconvert_exporter": "python",
   "pygments_lexer": "ipython3",
   "version": "3.8.10"
  }
 },
 "nbformat": 4,
 "nbformat_minor": 5
}
